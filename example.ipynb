{
  "cells": [
    {
      "cell_type": "markdown",
      "metadata": {
        "id": "ycourcNNmDjG"
      },
      "source": [
        "# **Example run of Hello CPPeers**"
      ]
    },
    {
      "cell_type": "markdown",
      "source": [
        "\n",
        "```\n",
        "$ ./Cppeers\n",
        "\n",
        "Welcome to CPPeers\n",
        "The options are: \n",
        "1. load data file and add information\n",
        "2. show posts by user\n",
        "3. show posts with hashtag\n",
        "4. show most popular hashtag\n",
        "9. quit\n",
        "--------> Enter your option: 1\n",
        "Enter filename: TAMU-csce121-small.txt\n",
        "Added User ajitjain\n",
        "Added User michaelm\n",
        "Added Post 42412212 by ajitjain\n",
        "Added Post 58687888 by michaelm\n",
        "Added Post 42353253 by michaelm\n",
        "\n",
        "Welcome to CPPeers\n",
        "The options are: \n",
        "1. load data file and add information\n",
        "2. show posts by user\n",
        "3. show posts with hashtag\n",
        "4. show most popular hashtag\n",
        "9. quit\n",
        "--------> Enter your option: 2\n",
        "Enter username: michaelm\n",
        " - When an #array is passed to a #function, it decays to a pointer.\n",
        " - You can use pass-by-reference, if you need multiple updated values in the calling #function. It also helps save memory and CPU cycles.\n",
        "\n",
        "Welcome to CPPeers\n",
        "The options are: \n",
        "1. load data file and add information\n",
        "2. show posts by user\n",
        "3. show posts with hashtag\n",
        "4. show most popular hashtag\n",
        "9. quit\n",
        "--------> Enter your option: 3\n",
        "Enter tagname: #dynamic    \n",
        " - When deallocating #dynamic arrays, use delete[].\n",
        "\n",
        "Welcome to CPPeers\n",
        "The options are: \n",
        "1. load data file and add information\n",
        "2. show posts by user\n",
        "3. show posts with hashtag\n",
        "4. show most popular hashtag\n",
        "9. quit\n",
        "--------> Enter your option: 4\n",
        "#function\n",
        "\n",
        "Welcome to CPPeers\n",
        "The options are: \n",
        "1. load data file and add information\n",
        "2. show posts by user\n",
        "3. show posts with hashtag\n",
        "4. show most popular hashtag\n",
        "9. quit\n",
        "--------> Enter your option: 9\n",
        "Exiting... Goodbye\n",
        "```\n",
        "\n"
      ],
      "metadata": {
        "id": "vYxJ3wgRPBE_"
      }
    }
  ],
  "metadata": {
    "colab": {
      "provenance": []
    },
    "kernelspec": {
      "display_name": "Python 3",
      "name": "python3"
    },
    "language_info": {
      "name": "python"
    }
  },
  "nbformat": 4,
  "nbformat_minor": 0
}
